{
 "cells": [
  {
   "cell_type": "code",
   "execution_count": 59,
   "metadata": {
    "collapsed": true,
    "pycharm": {
     "is_executing": false
    }
   },
   "outputs": [
    {
     "data": {
      "text/plain": "<astropy.visualization.units.quantity_support.<locals>.MplQuantityConverter at 0x199c670f9e8>"
     },
     "metadata": {},
     "output_type": "execute_result",
     "execution_count": 59
    }
   ],
   "source": [
    "import matplotlib.pyplot as plt\n",
    "import numpy as np\n",
    "import astropy.units as u\n",
    "import astropy.constants as const\n",
    "import astropy.visualization\n",
    "astropy.visualization.quantity_support()"
   ]
  },
  {
   "cell_type": "markdown",
   "source": [
    "## Calculate results of Petschek reconnection"
   ],
   "metadata": {
    "collapsed": false,
    "pycharm": {
     "name": "#%% md\n",
     "is_executing": false
    }
   }
  },
  {
   "cell_type": "code",
   "execution_count": 10,
   "outputs": [],
   "source": [
    "# Constants\n",
    "mu_0 = const.mu0                # Magnetic constant\n",
    "m_p = const.m_p                 # Proton mass\n",
    "m_si = 4.6636*10**(-26)*u.kg    # Atomic mass silicon\n",
    "k_B = const.k_B                 # Boltzmann constant\n",
    "\n",
    "\n",
    "# Parameters\n",
    "zeta = 30*u.deg         # Angle of initial field lines\n",
    "gamma = 5/3             # Ratio of specific heats\n",
    "\n",
    "# Internal properties\n",
    "# B_i = 1\n",
    "# rho_i = 1\n",
    "# p_i = 1\n",
    "\n",
    "# External properties\n",
    "B_e = 1.5*u.mT\n",
    "n_e = 3e14*u.m**(-3)    # Proton number density\n",
    "rho_e = m_p * n_e\n",
    "# p_e = 1\n",
    "T_e = 2*u.MK\n",
    "v_ae = (B_e/np.sqrt(mu_0 * rho_e)).to(u.km/u.s)\n",
    "TA_e = ((m_p/k_B) * (v_ae**2)/2).to(u.MK)\n",
    "beta_e = T_e/TA_e\n",
    "\n",
    "# Section 1\n",
    "rho_1 = rho_e\n",
    "# p_1 = p_e\n",
    "v_x1 = 0\n",
    "v_z1 = 0\n",
    "\n",
    "# Section 2\n",
    "rho_2 = rho_1\n",
    "# p_2 = p_1\n",
    "v_x2 = -2 * v_ae * np.sin(zeta/2)**2\n",
    "v_z2 = -v_ae * np.sin(zeta)\n",
    "\n",
    "# GDS properties\n",
    "M_2 = np.sqrt(8/(gamma * beta_e)) * np.sin(zeta/2)**2\n",
    "v_s = np.abs(v_x2) * (np.sqrt(M_2**(-2) + ((gamma + 1)**2)/16) - (3 - gamma)/4)\n",
    "\n",
    "# Section 3\n",
    "beta_3 = beta_e * (1 + gamma * M_2**2 * (1 + v_s/np.abs(v_x2)))\n",
    "rho_3 = rho_2 * (1 + (np.abs(v_x2)/v_s))\n",
    "T_3 = TA_e * beta_3 * rho_e/rho_3\n",
    "v_x3 = 0\n",
    "v_z3 = v_z2"
   ],
   "metadata": {
    "collapsed": false,
    "pycharm": {
     "name": "#%%\n",
     "is_executing": false
    }
   }
  },
  {
   "cell_type": "markdown",
   "source": [
    "## Spectral Synthesis"
   ],
   "metadata": {
    "collapsed": false,
    "pycharm": {
     "name": "#%% md\n"
    }
   }
  },
  {
   "cell_type": "code",
   "execution_count": 69,
   "outputs": [],
   "source": [
    "# Create masks for sections 2 and 3 separated by shocks.\n",
    "\n",
    "t = 1*u.s   # Time that has passed (arbitrary)\n",
    "v_xae = v_ae * np.cos(zeta)\n",
    "v_zae = -v_ae * np.sin(zeta)\n",
    "phi = (np.arctan(v_s/np.abs(v_zae))).to(u.deg)\n",
    "\n",
    "nx = 200\n",
    "nz = 200\n",
    "x = np.linspace(-t * v_xae, t * v_xae, num=nx)\n",
    "z = np.linspace(t * v_zae, -t * v_zae, num=nz)\n",
    "xv, zv = np.meshgrid(x, z)\n",
    "\n",
    "z1 = xv * np.tan(zeta)\n",
    "z2 = xv * np.tan(90*u.deg - phi)\n",
    "mask_2 = np.zeros((nx, nz))\n",
    "mask_2[np.logical_and(np.abs(z1) < np.abs(zv), np.abs(zv) < np.abs(z2))] = 1\n",
    "\n",
    "mask_3 = np.zeros((nx, nz))\n",
    "mask_3[np.abs(zv) > np.abs(z2)] = 1\n",
    "\n",
    "# Plot masks\n",
    "plt.imshow(mask_2, extent=[x.min().value, x.max().value, z.min().value, z.max().value])\n",
    "plt.figure()\n",
    "plt.imshow(mask_3, extent=[x.min().value, x.max().value, z.min().value, z.max().value])"
   ],
   "metadata": {
    "collapsed": false,
    "pycharm": {
     "name": "#%%\n",
     "is_executing": false
    }
   }
  },
  {
   "cell_type": "code",
   "execution_count": 70,
   "outputs": [
    {
     "data": {
      "text/plain": "<matplotlib.image.AxesImage at 0x199c69778d0>"
     },
     "metadata": {},
     "output_type": "execute_result",
     "execution_count": 70
    },
    {
     "data": {
      "text/plain": "<Figure size 432x288 with 1 Axes>",
      "image/png": "[encoded data removed]"
     },
     "metadata": {
      "needs_background": "light"
     },
     "output_type": "display_data"
    },
    {
     "data": {
      "text/plain": "<Figure size 432x288 with 1 Axes>",
      "image/png": "[encoded data removed]"
     },
     "metadata": {
      "needs_background": "light"
     },
     "output_type": "display_data"
    }
   ],
   "source": [],
   "metadata": {
    "collapsed": false,
    "pycharm": {
     "name": "#%%\n",
     "is_executing": false
    }
   }
  },
  {
   "cell_type": "code",
   "execution_count": 27,
   "outputs": [],
   "source": [
    "amp = 1\n",
    "peak = v_z3\n",
    "v_range = np.linspace(peak - (200*u.km/u.s), -peak + (200*u.km/u.s), num=200)\n",
    "v_th = (np.sqrt(k_B * T_3/m_si)).to(u.km/u.s)   # Thermal speed (for Silicon)\n",
    "th_brd_lo = amp * np.exp(-((v_range - peak)**2)/(2 * v_th**2))\n",
    "th_brd_hi = amp * np.exp(-((v_range + peak)**2)/(2 * v_th**2))\n",
    "th_brd = th_brd_lo + th_brd_hi"
   ],
   "metadata": {
    "collapsed": false,
    "pycharm": {
     "name": "#%%\n",
     "is_executing": false
    }
   }
  },
  {
   "cell_type": "code",
   "execution_count": 28,
   "outputs": [
    {
     "data": {
      "text/plain": "[<matplotlib.lines.Line2D at 0x199c4ec2e48>]"
     },
     "metadata": {},
     "output_type": "execute_result",
     "execution_count": 28
    },
    {
     "data": {
      "text/plain": "<Figure size 432x288 with 1 Axes>",
      "image/png": "[encoded data removed]"
     },
     "metadata": {
      "needs_background": "light"
     },
     "output_type": "display_data"
    }
   ],
   "source": [
    "plt.plot(v_range, th_brd)"
   ],
   "metadata": {
    "collapsed": false,
    "pycharm": {
     "name": "#%%\n",
     "is_executing": false
    }
   }
  }
 ],
 "metadata": {
  "kernelspec": {
   "display_name": "Python 3",
   "language": "python",
   "name": "python3"
  },
  "language_info": {
   "codemirror_mode": {
    "name": "ipython",
    "version": 2
   },
   "file_extension": ".py",
   "mimetype": "text/x-python",
   "name": "python",
   "nbconvert_exporter": "python",
   "pygments_lexer": "ipython2",
   "version": "2.7.6"
  },
  "pycharm": {
   "stem_cell": {
    "cell_type": "raw",
    "source": [],
    "metadata": {
     "collapsed": false
    }
   }
  }
 },
 "nbformat": 4,
 "nbformat_minor": 0
}