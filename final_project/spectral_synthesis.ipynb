{
 "cells": [
  {
   "cell_type": "code",
   "execution_count": 227,
   "metadata": {
    "collapsed": true,
    "pycharm": {
     "is_executing": false
    }
   },
   "outputs": [],
   "source": [
    "import matplotlib.pyplot as plt\n",
    "from mpl_toolkits import mplot3d\n",
    "import numpy as np\n",
    "import typing as tp\n",
    "import scipy.ndimage\n",
    "import astropy.units as u\n",
    "import astropy.constants as const\n",
    "import astropy.visualization\n",
    "astropy.visualization.quantity_support()\n",
    "\n",
    "def rotate(array, angle) -> tp.Tuple[np.ndarray]:\n",
    "    rot_array = scipy.ndimage.rotate(array, angle, reshape=False)\n",
    "    return rot_array"
   ]
  },
  {
   "cell_type": "markdown",
   "source": [
    "## Calculate results of Petschek reconnection"
   ],
   "metadata": {
    "collapsed": false,
    "pycharm": {
     "name": "#%% md\n",
     "is_executing": false
    }
   }
  },
  {
   "cell_type": "code",
   "execution_count": 252,
   "outputs": [],
   "source": [
    "# Constants\n",
    "mu_0 = const.mu0                # Magnetic constant\n",
    "m_p = const.m_p                 # Proton mass\n",
    "m_si = 4.6636*10**(-26)*u.kg    # Atomic mass silicon\n",
    "k_B = const.k_B                 # Boltzmann constant\n",
    "\n",
    "\n",
    "# Parameters\n",
    "zeta = 30*u.deg         # Angle of initial field lines\n",
    "gamma = 5/3             # Ratio of specific heats\n",
    "\n",
    "# Internal properties\n",
    "# B_i = 1\n",
    "# rho_i = 1\n",
    "# p_i = 1\n",
    "\n",
    "# External properties\n",
    "# Using TR values\n",
    "beta_e = 10**(-2)\n",
    "n_e = 10**15*u.m**(-3)    # Proton number density\n",
    "T_e = 10**5*u.K\n",
    "rho_e = m_p * n_e\n",
    "TA_e = T_e/beta_e\n",
    "v_ae = (np.sqrt(2 * TA_e * k_B/m_p)).to(u.km/u.s)\n",
    "B_e = (v_ae * np.sqrt(mu_0 * rho_e)).to(u.mT)\n",
    "p_e = (beta_e * ((B_e**2)/(2 * mu_0))).to(u.kg/(u.km * u.s**2))\n",
    "## Attempt using Dana's values for corona\n",
    "# B_e = 1.5*u.mT\n",
    "# n_e = 3e14*u.m**(-3)    # Proton number density\n",
    "# T_e = 2*u.MK\n",
    "# rho_e = m_p * n_e\n",
    "# v_ae = (B_e/np.sqrt(mu_0 * rho_e)).to(u.km/u.s)\n",
    "# TA_e = ((m_p/k_B) * (v_ae**2)/2).to(u.MK)\n",
    "# beta_e = T_e/TA_e\n",
    "# p_e = (beta_e * ((B_e**2)/(2 * mu_0))).to(u.kg/(u.km * u.s**2))\n",
    "\n",
    "# Section 1\n",
    "rho_1 = rho_e\n",
    "p_1 = p_e\n",
    "v_x1 = 0\n",
    "v_z1 = 0\n",
    "T_1 = ((p_1/rho_1) * (m_p/k_B)).to(u.MK)\n",
    "\n",
    "# Section 2\n",
    "rho_2 = rho_1\n",
    "p_2 = p_1\n",
    "T_2 = ((p_2/rho_2) * (m_p/k_B)).to(u.MK)\n",
    "v_x2 = -2 * v_ae * np.sin(zeta/2)**2\n",
    "v_z2 = -v_ae * np.sin(zeta)\n",
    "\n",
    "# GDS properties\n",
    "M_2 = np.sqrt(8/(gamma * beta_e)) * np.sin(zeta/2)**2\n",
    "v_s = np.abs(v_x2) * (np.sqrt(M_2**(-2) + ((gamma + 1)**2)/16) - (3 - gamma)/4)\n",
    "\n",
    "# Section 3\n",
    "beta_3 = beta_e * (1 + gamma * M_2**2 * (1 + v_s/np.abs(v_x2)))\n",
    "rho_3 = rho_2 * (1 + (np.abs(v_x2)/v_s))\n",
    "T_3 = TA_e * beta_3 * rho_e/rho_3\n",
    "v_x3 = 0\n",
    "v_z3 = v_z2"
   ],
   "metadata": {
    "collapsed": false,
    "pycharm": {
     "name": "#%%\n",
     "is_executing": false
    }
   }
  },
  {
   "cell_type": "markdown",
   "source": [
    "## Spectral Synthesis"
   ],
   "metadata": {
    "collapsed": false,
    "pycharm": {
     "name": "#%% md\n"
    }
   }
  },
  {
   "cell_type": "code",
   "execution_count": 253,
   "outputs": [],
   "source": [
    "# Try to only use 1D tube as volume, look at several times, look at several angles\n",
    "\n",
    "# Half tube length\n",
    "L = 1*u.Mm\n",
    "\n",
    "# Amount of time for IS bend to reach feet of flux tube\n",
    "t_max = (L/v_ae).to(u.s)\n",
    "\n",
    "# Time array\n",
    "t_array = np.reshape(np.linspace(0, t_max.value, num=100), (-1, 1, 1))*u.s\n",
    "\n",
    "# Velocity of bend in x direction\n",
    "v_xae = v_ae * np.cos(zeta)\n",
    "\n",
    "# Length of section 3 in x direction as a function of time\n",
    "d_x3_t = 2 * v_s * t_array\n",
    "\n",
    "# Length of a single section 2 as a function of time\n",
    "d_x2_t = (v_xae * t_array) - d_x3_t/2\n",
    "\n",
    "# Length of a single section 1 as a function of time\n",
    "d_x1_t = (L - (t_array * v_ae)).to(u.km)"
   ],
   "metadata": {
    "collapsed": false,
    "pycharm": {
     "name": "#%%\n",
     "is_executing": false
    }
   }
  },
  {
   "cell_type": "code",
   "execution_count": 230,
   "outputs": [],
   "source": [
    "# # Create masks for sections 2 and 3 separated by shocks.\n",
    "# t = 1*u.s   # Time that has passed (arbitrary)\n",
    "# v_xae = v_ae * np.cos(zeta)\n",
    "# v_zae = -v_ae * np.sin(zeta)\n",
    "# phi = (np.arctan(v_s/np.abs(v_zae))).to(u.deg)\n",
    "# \n",
    "# nx = int(np.floor(np.abs(v_xae.value)))\n",
    "# nz = int(np.floor(np.abs(v_zae.value)))\n",
    "# x_lim_lo = -t * v_xae\n",
    "# x_lim_hi = t * v_xae\n",
    "# z_lim_lo = t * v_zae\n",
    "# z_lim_hi = -t * v_zae\n",
    "# x = np.linspace(x_lim_lo, x_lim_hi, num=nx)\n",
    "# z = np.linspace(z_lim_lo, z_lim_hi, num=nz)\n",
    "# xv, zv = np.meshgrid(x, z)\n",
    "# dx = (x[-1] - x[0])/nx\n",
    "# dz = (z[-1] - z[0])/nz\n",
    "# \n",
    "# # Lines representing shocks\n",
    "# z1 = xv * np.tan(zeta)\n",
    "# z2 = xv * np.tan(90*u.deg - phi)\n",
    "# \n",
    "# # Masks\n",
    "# mask_2 = np.zeros((nz, nx))\n",
    "# ind = np.logical_and(np.abs(z1) < np.abs(zv), np.abs(zv) < np.abs(z2))\n",
    "# mask_2[ind] = 1\n",
    "# mask_3 = np.zeros((nz, nx))\n",
    "# mask_3[np.abs(zv) > np.abs(z2)] = 1\n",
    "# \n",
    "# # Pad masks so they may be rotated and not have necessary information rotate out of frame\n",
    "# x_pad = int(np.ceil((np.sqrt(len(x)**2 + len(z)**2) - len(x))/2))\n",
    "# z_pad = int(np.ceil((np.sqrt(len(x)**2 + len(z)**2) - len(z))/2))\n",
    "# mask_2p = np.pad(mask_2, [(z_pad, z_pad), (x_pad, x_pad)], mode='constant')\n",
    "# mask_3p = np.pad(mask_3, [(z_pad, z_pad), (x_pad, x_pad)], mode='constant')\n",
    "# \n",
    "# # New x and z ranges\n",
    "# x_new = dx * (-mask_2p.shape[1]//2 + np.arange(mask_2p.shape[1]))\n",
    "# z_new = dz * (-mask_2p.shape[0]//2 + np.arange(mask_2p.shape[0]))\n",
    "# \n",
    "# # Plot masks\n",
    "# plt.imshow(mask_2p, extent=[x_new.min().value, x_new.max().value, z_new.min().value, z_new.max().value])\n",
    "# plt.figure()\n",
    "# plt.imshow(mask_3p, extent=[x_new.min().value, x_new.max().value, z_new.min().value, z_new.max().value])"
   ],
   "metadata": {
    "collapsed": false,
    "pycharm": {
     "name": "#%%\n",
     "is_executing": false
    }
   }
  },
  {
   "cell_type": "code",
   "execution_count": 254,
   "outputs": [],
   "source": [
    "# Rotation parameters\n",
    "\n",
    "# num_ang = 33    # Number of unique angles to sample\n",
    "num_ang = 364    # Number of unique angles to sample\n",
    "# ang = np.linspace(0, 360, num_ang, endpoint=False)\n",
    "ang = np.linspace(0, 90, num_ang)*u.deg"
   ],
   "metadata": {
    "collapsed": false,
    "pycharm": {
     "name": "#%%\n",
     "is_executing": false
    }
   }
  },
  {
   "cell_type": "code",
   "execution_count": 232,
   "outputs": [],
   "source": [
    "# Only use if interested in intensity as a function of position along x...\n",
    "\n",
    "# field_2_array = np.empty((0, *mask_2p.shape))\n",
    "# field_3_array = np.empty((0, *mask_3p.shape))\n",
    "# \n",
    "# for angle in ang:\n",
    "#     field_2 = rotate(mask_2p, angle)\n",
    "#     field_3 = rotate(mask_3p, angle)\n",
    "#     field_2_array = np.append(field_2_array, [field_2], axis=0)\n",
    "#     field_3_array = np.append(field_3_array, [field_3], axis=0)\n",
    "# \n",
    "# # Plots of rotated density fields\n",
    "# plt.imshow(field_2_array[5, :, :], extent=[x_new.min().value, x_new.max().value, z_new.min().value, z_new.max().value])\n",
    "# plt.figure()\n",
    "# plt.imshow(field_3_array[5, :, :], extent=[x_new.min().value, x_new.max().value, z_new.min().value, z_new.max().value])\n",
    "# \n",
    "# # Integrate down columns to get density along x (not really needed...)\n",
    "# \n",
    "# rhox_2 = np.sum(field_2_array[5, :, :], axis=0)\n",
    "# rhox_3 = np.sum(field_3_array[5, :, :], axis=0)\n",
    "# plt.plot(x_new, rhox_2)\n",
    "# plt.figure()\n",
    "# plt.plot(x_new, rhox_3)"
   ],
   "metadata": {
    "collapsed": false,
    "pycharm": {
     "name": "#%%\n",
     "is_executing": false
    }
   }
  },
  {
   "cell_type": "code",
   "execution_count": 255,
   "outputs": [],
   "source": [
    "# # Total area in each section:\n",
    "# Vol_2 = np.sum(mask_2p) * dx * dz * 1*u.km\n",
    "# Vol_3 = np.sum(mask_3p) * dx * dz * 1*u.km\n",
    "\n",
    "# One dimentional \"volume\" in each section:\n",
    "Vol_1 = d_x1_t\n",
    "Vol_2 = d_x2_t\n",
    "Vol_3 = d_x3_t\n",
    "\n",
    "# Intensity from each section\n",
    "I_1 = (rho_1**2 * Vol_1)\n",
    "I_2 = (rho_2**2 * Vol_2)\n",
    "I_3 = (rho_3**2 * Vol_3)\n",
    "\n",
    "# Amplitudes\n",
    "amp_1 = (I_1).to(u.kg**2/u.km**5)\n",
    "amp_2 = (I_2).to(u.kg**2/u.km**5)\n",
    "amp_3 = (I_3).to(u.kg**2/u.km**5)\n",
    "\n",
    "# Velocities along line of sight after rotation (LOS = z dir)\n",
    "# Section 2 (right)\n",
    "v_z2R_los = v_z2 * np.cos(ang)\n",
    "v_x2R_los = v_x2 * np.sin(ang)\n",
    "peak_2R = v_z2R_los + v_x2R_los\n",
    "\n",
    "# Section 2 (left)\n",
    "v_z2L_los = v_z2 * np.cos(ang)\n",
    "v_x2L_los = -v_x2 * np.sin(ang)\n",
    "peak_2L = v_z2L_los + v_x2L_los\n",
    "\n",
    "# Section 3\n",
    "peak_3 = v_z3 * np.cos(ang)"
   ],
   "metadata": {
    "collapsed": false,
    "pycharm": {
     "name": "#%%\n",
     "is_executing": false
    }
   }
  },
  {
   "cell_type": "code",
   "execution_count": 263,
   "outputs": [],
   "source": [
    "v_range = np.linspace(v_z3 - (100*u.km/u.s), -v_z3 + (100*u.km/u.s), num=400)\n",
    "v_range = np.reshape(v_range, (1, -1, 1))\n",
    "\n",
    "# Section 1 spectral lines\n",
    "\n",
    "# Thermal speed of silicon in section 1\n",
    "v_th1 = (np.sqrt(k_B * T_1/m_si)).to(u.km/u.s) \n",
    "\n",
    "# Model thermally broadened spectral lines from section 1\n",
    "line_lo1R = amp_1 * np.exp(-(v_range**2)/(2 * v_th1**2))\n",
    "line_hi1R = amp_1 * np.exp(-(v_range**2)/(2 * v_th1**2))\n",
    "lines_1R = line_lo1R + line_hi1R\n",
    "\n",
    "line_lo1L = amp_1 * np.exp(-(v_range**2)/(2 * v_th1**2))\n",
    "line_hi1L = amp_1 * np.exp(-(v_range**2)/(2 * v_th1**2))\n",
    "lines_1L = line_lo1L + line_hi1L\n",
    "\n",
    "\n",
    "# Section 2 spectral lines\n",
    "\n",
    "# Thermal speed of silicon in section 2\n",
    "v_th2 = (np.sqrt(k_B * T_2/m_si)).to(u.km/u.s)  \n",
    "\n",
    "# Model thermally broadened spectral lines from section 2\n",
    "line_lo2R = amp_2 * np.exp(-((v_range - peak_2R)**2)/(2 * v_th2**2))\n",
    "line_hi2R = amp_2 * np.exp(-((v_range + peak_2R)**2)/(2 * v_th2**2))\n",
    "lines_2R = line_lo2R + line_hi2R\n",
    "\n",
    "line_lo2L = amp_2 * np.exp(-((v_range - peak_2L)**2)/(2 * v_th2**2))\n",
    "line_hi2L = amp_2 * np.exp(-((v_range + peak_2L)**2)/(2 * v_th2**2))\n",
    "lines_2L = line_lo2L + line_hi2L\n",
    "\n",
    "\n",
    "# Section 3 spectral lines\n",
    "\n",
    "# Thermal speed of silicon in section 3\n",
    "v_th3 = (np.sqrt(k_B * T_3/m_si)).to(u.km/u.s)  \n",
    "\n",
    "# Model thermally broadened spectral lines from section 2\n",
    "line_lo3 = amp_3 * np.exp(-((v_range - peak_3)**2)/(2 * v_th3**2))\n",
    "line_hi3 = amp_3 * np.exp(-((v_range + peak_3)**2)/(2 * v_th3**2))\n",
    "lines_3 = line_lo3 + line_hi3\n",
    "\n",
    "\n",
    "# Total spectrum\n",
    "spectrum = lines_1R + lines_1L + lines_2R + lines_2L + lines_3\n"
   ],
   "metadata": {
    "collapsed": false,
    "pycharm": {
     "name": "#%%\n",
     "is_executing": false
    }
   }
  },
  {
   "cell_type": "code",
   "execution_count": 235,
   "outputs": [],
   "source": [
    "# # Plot spectrum at each angle\n",
    "# \n",
    "# angle = list(range(len(ang)))\n",
    "# for a in angle:\n",
    "#     fig = plt.figure()\n",
    "#     ax = fig.add_subplot(111)\n",
    "#     pos = ax.imshow(spectrum[:,:,a].value/spectrum.value.max(), vmax= 1, extent=[v_range.min().value, v_range.max().value, t_array.max().value, t_array.min().value])\n",
    "#     ax.set_aspect(750)\n",
    "#     ax.set_title('Angle ' + str(ang[a]))\n",
    "#     ax.set_xlabel('Doppler velocity [km/s]')\n",
    "#     ax.set_ylabel('Time [s]')\n",
    "#     fig.colorbar(pos)"
   ],
   "metadata": {
    "collapsed": false,
    "pycharm": {
     "name": "#%%\n",
     "is_executing": false
    }
   }
  },
  {
   "cell_type": "code",
   "execution_count": 268,
   "outputs": [
    {
     "data": {
      "text/plain": "<matplotlib.colorbar.Colorbar at 0x1c34dfdbac8>"
     },
     "metadata": {},
     "output_type": "execute_result",
     "execution_count": 268
    },
    {
     "data": {
      "text/plain": "<Figure size 432x288 with 2 Axes>",
      "image/png": "[encoded data removed]"
     },
     "metadata": {
      "needs_background": "light"
     },
     "output_type": "display_data"
    }
   ],
   "source": [
    "# Plot spectrum as a function of angle and Doppler velocity\n",
    "t_index = 99\n",
    "fig = plt.figure()\n",
    "ax = fig.add_subplot(111)\n",
    "pos = ax.imshow(spectrum[t_index,:,:].T.value/spectrum.value.max(), vmax= 1, origin= 'lower', extent=[v_range.min().value, v_range.max().value, ang.min().value, ang.max().value])\n",
    "ax.set_aspect(6)\n",
    "ax.set_title('LOS spectrum at time ' + str(round(t_array[t_index,0,0].value, ndigits=2)) + ' s')\n",
    "ax.set_xlabel('Doppler velocity [km/s]')\n",
    "ax.set_ylabel('LOS angle [deg]')\n",
    "fig.colorbar(pos)\n"
   ],
   "metadata": {
    "collapsed": false,
    "pycharm": {
     "name": "#%%\n",
     "is_executing": false
    }
   }
  }
 ],
 "metadata": {
  "kernelspec": {
   "display_name": "Python 3",
   "language": "python",
   "name": "python3"
  },
  "language_info": {
   "codemirror_mode": {
    "name": "ipython",
    "version": 2
   },
   "file_extension": ".py",
   "mimetype": "text/x-python",
   "name": "python",
   "nbconvert_exporter": "python",
   "pygments_lexer": "ipython2",
   "version": "2.7.6"
  },
  "pycharm": {
   "stem_cell": {
    "cell_type": "raw",
    "source": [],
    "metadata": {
     "collapsed": false
    }
   }
  }
 },
 "nbformat": 4,
 "nbformat_minor": 0
}